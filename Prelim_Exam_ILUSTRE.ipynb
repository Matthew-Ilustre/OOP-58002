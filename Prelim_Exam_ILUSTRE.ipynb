{
  "nbformat": 4,
  "nbformat_minor": 0,
  "metadata": {
    "colab": {
      "name": "Prelim Exam_ILUSTRE",
      "provenance": [],
      "collapsed_sections": [],
      "authorship_tag": "ABX9TyMLNNGxCZ8uSoDBWwuWGpYn",
      "include_colab_link": true
    },
    "kernelspec": {
      "name": "python3",
      "display_name": "Python 3"
    },
    "language_info": {
      "name": "python"
    }
  },
  "cells": [
    {
      "cell_type": "markdown",
      "metadata": {
        "id": "view-in-github",
        "colab_type": "text"
      },
      "source": [
        "<a href=\"https://colab.research.google.com/github/Matthew-Ilustre/OOP-58002/blob/main/Prelim_Exam_ILUSTRE.ipynb\" target=\"_parent\"><img src=\"https://colab.research.google.com/assets/colab-badge.svg\" alt=\"Open In Colab\"/></a>"
      ]
    },
    {
      "cell_type": "code",
      "execution_count": 35,
      "metadata": {
        "colab": {
          "base_uri": "https://localhost:8080/"
        },
        "id": "0y3pg3SzEPWa",
        "outputId": "c7bd5247-b383-4942-a5c0-5d8d51cbe276"
      },
      "outputs": [
        {
          "output_type": "stream",
          "name": "stdout",
          "text": [
            "Hello! I am ILUSTRE, Matthew Dominic, H. 20 years old\n",
            "and my student number is 202117032\n",
            "I'm from Adamson University\n",
            "and studying Computer Engineering (CPE)\n"
          ]
        }
      ],
      "source": [
        "class Student:\n",
        "  def __init__(self,Name,Age,Std_no, School, Course):\n",
        "    self.Name = Name\n",
        "    self.Age = Age\n",
        "    self.Std_no = Std_no\n",
        "    self.School = School\n",
        "    self.Course = Course\n",
        "   \n",
        "  def Myself(self):\n",
        "    print(\"Hello! I am\", self.Name, self.Age, \"years old\") \n",
        "    print(\"and my student number is\", self.Std_no)\n",
        "    print(\"I'm from\", self.School)\n",
        "    print(\"and studying\", self.Course)\n",
        "    \n",
        "\n",
        "Intro = Student(\"ILUSTRE, Matthew Dominic, H.\",20, 202117032, \"Adamson University\", \"Computer Engineering (CPE)\")\n",
        "Intro.Myself()"
      ]
    }
  ]
}