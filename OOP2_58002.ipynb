{
  "nbformat": 4,
  "nbformat_minor": 0,
  "metadata": {
    "colab": {
      "name": "OOP2-58002.ipynb",
      "provenance": [],
      "collapsed_sections": [],
      "authorship_tag": "ABX9TyONcwz8q1hoAJCwNf3DHYbm",
      "include_colab_link": true
    },
    "kernelspec": {
      "name": "python3",
      "display_name": "Python 3"
    },
    "language_info": {
      "name": "python"
    }
  },
  "cells": [
    {
      "cell_type": "markdown",
      "metadata": {
        "id": "view-in-github",
        "colab_type": "text"
      },
      "source": [
        "<a href=\"https://colab.research.google.com/github/Matthew-Ilustre/OOP-58002/blob/main/OOP2_58002.ipynb\" target=\"_parent\"><img src=\"https://colab.research.google.com/assets/colab-badge.svg\" alt=\"Open In Colab\"/></a>"
      ]
    },
    {
      "cell_type": "markdown",
      "source": [
        "Classes with multiple objects\n",
        "  "
      ],
      "metadata": {
        "id": "vyrEk5VUehTX"
      }
    },
    {
      "cell_type": "code",
      "execution_count": 70,
      "metadata": {
        "colab": {
          "base_uri": "https://localhost:8080/"
        },
        "id": "B0CRK88hegK3",
        "outputId": "fb0bb06e-4aae-4e9a-f1d3-9476eac052d8"
      },
      "outputs": [
        {
          "output_type": "stream",
          "name": "stdout",
          "text": [
            "Griffon Vulture flies above clouds\n",
            "Common Crane flies above clouds\n",
            "Emu flies above clouds\n"
          ]
        }
      ],
      "source": [
        "class Birds:\n",
        "  def __init__(self,bird_name):\n",
        "    self.bird_name = bird_name\n",
        "\n",
        "  def flying_birds(self):\n",
        "    print(f\"{self.bird_name} flies above clouds\")\n",
        "\n",
        "  def non_flying_birds(self):\n",
        "    print(f\"{self.bird_name} is the national bird of the Philippines\")\n",
        "\n",
        "vulture = Birds(\"Griffon Vulture\")\n",
        "crane = Birds(\"Common Crane\")\n",
        "emu = Birds(\"Emu\")\n",
        "\n",
        "vulture.flying_birds()\n",
        "crane.flying_birds()\n",
        "emu.flying_birds()"
      ]
    },
    {
      "cell_type": "markdown",
      "source": [
        "Encapsulation"
      ],
      "metadata": {
        "id": "IriZwJDIahnL"
      }
    },
    {
      "cell_type": "code",
      "source": [
        "class foo:\n",
        "  def __init__ (self,a,b):\n",
        "    self.a = a\n",
        "    self.b = b\n",
        "  \n",
        "  def add(self):\n",
        "    return self.a + self.b\n",
        "  def sub(self):\n",
        "    return self.a - self.b\n",
        "\n",
        "foo_object = foo (3,4)\n",
        "print(foo_object.add())\n",
        "print(foo_object.sub())\n",
        "\n",
        "foo_object.b = 5\n",
        "print(foo_object.b)\n",
        "print(foo_object.add())\n",
        "print(foo_object.sub())\n"
      ],
      "metadata": {
        "colab": {
          "base_uri": "https://localhost:8080/"
        },
        "id": "0cGdUWhHajIo",
        "outputId": "588e315f-a358-4c1b-e083-e45a7a88903a"
      },
      "execution_count": 17,
      "outputs": [
        {
          "output_type": "stream",
          "name": "stdout",
          "text": [
            "7\n",
            "-1\n",
            "5\n",
            "8\n",
            "-2\n"
          ]
        }
      ]
    },
    {
      "cell_type": "markdown",
      "source": [
        "Inheritance"
      ],
      "metadata": {
        "id": "nCFbPVRPdB4r"
      }
    },
    {
      "cell_type": "code",
      "source": [
        "class Person:\n",
        "  def __init__(self,firstname,lastname):\n",
        "    self.firstname = firstname\n",
        "    self.lastname = lastname\n",
        "\n",
        "  def printname(self):\n",
        "    print(self.firstname,self.lastname)\n",
        "\n",
        "indi= Person(\"Mat\", \"Ilustre\")\n",
        "indi.printname()\n",
        "\n",
        "class Student(Person):\n",
        "    pass\n",
        "person = Student (\"leon\", \"Kennedy\")\n",
        "person.printname()"
      ],
      "metadata": {
        "colab": {
          "base_uri": "https://localhost:8080/"
        },
        "id": "Z1efHwsJemlb",
        "outputId": "ba12476c-518c-48fe-d07e-2c837822a511"
      },
      "execution_count": null,
      "outputs": [
        {
          "output_type": "stream",
          "name": "stdout",
          "text": [
            "Mat Ilustre\n",
            "leon Kennedy\n"
          ]
        }
      ]
    },
    {
      "cell_type": "markdown",
      "source": [
        "Polymorphism"
      ],
      "metadata": {
        "id": "FFYqBYW5nT-B"
      }
    },
    {
      "cell_type": "code",
      "source": [
        "class RegularPolygon:\n",
        "    def __init__(self,side):\n",
        "      self.side = side\n",
        "\n",
        "class Square(RegularPolygon):\n",
        "  def Area(self):\n",
        "    return self.side * self.side\n",
        "\n",
        "class EquilateralTriangle(RegularPolygon):\n",
        "  def Area(self):\n",
        "    return self.side *self.side * 0.433\n",
        "\n",
        "x = Square(4)\n",
        "y = EquilateralTriangle(3)\n",
        "\n",
        "print(x.Area())\n",
        "print(y.Area())"
      ],
      "metadata": {
        "colab": {
          "base_uri": "https://localhost:8080/"
        },
        "id": "dlFmf-URnbY2",
        "outputId": "98f07fb9-17c6-480b-9b2f-5dc16f74c623"
      },
      "execution_count": null,
      "outputs": [
        {
          "output_type": "stream",
          "name": "stdout",
          "text": [
            "16\n",
            "3.897\n"
          ]
        }
      ]
    },
    {
      "cell_type": "markdown",
      "source": [
        "Application 1"
      ],
      "metadata": {
        "id": "yyHM--8ipr80"
      }
    },
    {
      "cell_type": "markdown",
      "source": [
        "- Create a Python program that displays the name of three students (Student 1, \n",
        "Student 2, and Student 3) and their term grades\n",
        "- Create a class name Person and attributes – std1, std2, std2, pre, mid, fin\n",
        "- Compute the average of each term grade using Grade() method\n",
        "- Information about student’s grades must be hidden from others"
      ],
      "metadata": {
        "id": "J1OZGiXbpyXx"
      }
    },
    {
      "cell_type": "code",
      "source": [
        "class Person:\n",
        "  def __init__(self, name, pre, mid, fin):\n",
        "    self.name = name\n",
        "    self.__pre = pre*.3\n",
        "    self.__mid = mid*.3\n",
        "    self.__fin = fin*.4\n",
        " \n",
        "\n",
        "  def Grade(self):\n",
        "    return print (\"You are\", self.name, \"With Grades of\",\"Prelim:\", self.__pre ,\"Midterm:\",  self.__mid  ,\"Finals:\",  self.__fin, \"Resulting to a semestral grade of:\", self.__pre + self.__mid + self.__fin )\n",
        "\n",
        "  \n",
        "std1 = Person (\"Kai\", 85, 95, 90 )\n",
        "std2 = Person (\"Yo\", 82, 94, 95)\n",
        "std3 = Person(\"Ken\", 83, 89, 91)\n",
        "\n",
        "x = input (str(\"Choose Student's Grades you wish to view (Student 1, 2, 3): \"))\n",
        "\n",
        "if x == \"1\":\n",
        "  std1. Grade()\n",
        "else:\n",
        "  if x == \"2\":\n",
        "    std2.Grade()\n",
        "  else:\n",
        "    if x == \"3\":\n",
        "      std3.Grade()\n",
        "    else:\n",
        "      print(\"Error! Inavalid input... Please try again.\")"
      ],
      "metadata": {
        "colab": {
          "base_uri": "https://localhost:8080/"
        },
        "id": "LOEdmK0V2Uen",
        "outputId": "0e3aff66-69b1-4686-aa3a-6ef6bd4cc325"
      },
      "execution_count": 62,
      "outputs": [
        {
          "output_type": "stream",
          "name": "stdout",
          "text": [
            "Choose Student's Grades you wish to view (Student 1, 2, 3): 3\n",
            "You are Ken With Grades of Prelim: 24.9 Midterm: 26.7 Finals: 36.4 Resulting to a semestral grade of: 88.0\n"
          ]
        }
      ]
    },
    {
      "cell_type": "markdown",
      "source": [
        "Application 1 lesson adapt Attempt "
      ],
      "metadata": {
        "id": "GN86kqmLEmpz"
      }
    },
    {
      "cell_type": "code",
      "source": [
        "class Person:\n",
        "  def __init__(self,std1,std2,std3,pre,mid,fin):\n",
        "    self.__std1 = std1\n",
        "    self.__std2 = std2\n",
        "    self.__std3 = std3\n",
        "    self.__pre = pre *.3\n",
        "    self.__mid = mid *.3\n",
        "    self.__fin = fin *.4\n",
        "\n",
        "\n",
        "\n",
        "\n",
        "  def Students(self):   \n",
        "    return print(f\"{self.__std1} Your Prelim Grade is: {self.__pre}. And your Midterm Grade is: {self.__mid}. And your Final Grade is: {self.__fin} Resulting to {self.__pre + self.__mid + self.__fin}.\" ) \n",
        "\n",
        "  def Student1(self): \n",
        "    return print(f\"{self.__std2} Your Prelim Grade is: {self.__pre}. And your Midterm Grade is: {self.__mid}. And your Final Grade is: {self.__fin}.\")\n",
        " \n",
        "  def Student1(self):\n",
        "    return print(f\"{self.__std3} Your Prelim Grade is: {self.__pre}. And your Midterm Grade is: {self.__mid}. And your Final Grade is: {self.__fin}.\")\n",
        "\n",
        "stud1 = Person (\"Kai\",0,0, 89, 91, 93 )\n",
        "stud2 = Person (\"Yo\",0,0, 92, 94, 95)\n",
        "stud3 = Person(\"Ken\", 93, 89, 91)\n",
        "\n",
        "\n",
        "\n",
        "\n"
      ],
      "metadata": {
        "id": "wqrieMqEqMsh",
        "colab": {
          "base_uri": "https://localhost:8080/",
          "height": 250
        },
        "outputId": "03582cde-84b6-4604-b769-a6ec8a382974"
      },
      "execution_count": 57,
      "outputs": [
        {
          "output_type": "error",
          "ename": "TypeError",
          "evalue": "ignored",
          "traceback": [
            "\u001b[0;31m---------------------------------------------------------------------------\u001b[0m",
            "\u001b[0;31mTypeError\u001b[0m                                 Traceback (most recent call last)",
            "\u001b[0;32m<ipython-input-57-7a5904d69772>\u001b[0m in \u001b[0;36m<module>\u001b[0;34m()\u001b[0m\n\u001b[1;32m     22\u001b[0m \u001b[0mstud1\u001b[0m \u001b[0;34m=\u001b[0m \u001b[0mPerson\u001b[0m \u001b[0;34m(\u001b[0m\u001b[0;34m\"Kai\"\u001b[0m\u001b[0;34m,\u001b[0m\u001b[0;36m0\u001b[0m\u001b[0;34m,\u001b[0m\u001b[0;36m0\u001b[0m\u001b[0;34m,\u001b[0m \u001b[0;36m89\u001b[0m\u001b[0;34m,\u001b[0m \u001b[0;36m91\u001b[0m\u001b[0;34m,\u001b[0m \u001b[0;36m93\u001b[0m \u001b[0;34m)\u001b[0m\u001b[0;34m\u001b[0m\u001b[0;34m\u001b[0m\u001b[0m\n\u001b[1;32m     23\u001b[0m \u001b[0mstud2\u001b[0m \u001b[0;34m=\u001b[0m \u001b[0mPerson\u001b[0m \u001b[0;34m(\u001b[0m\u001b[0;34m\"Yo\"\u001b[0m\u001b[0;34m,\u001b[0m\u001b[0;36m0\u001b[0m\u001b[0;34m,\u001b[0m\u001b[0;36m0\u001b[0m\u001b[0;34m,\u001b[0m \u001b[0;36m92\u001b[0m\u001b[0;34m,\u001b[0m \u001b[0;36m94\u001b[0m\u001b[0;34m,\u001b[0m \u001b[0;36m95\u001b[0m\u001b[0;34m)\u001b[0m\u001b[0;34m\u001b[0m\u001b[0;34m\u001b[0m\u001b[0m\n\u001b[0;32m---> 24\u001b[0;31m \u001b[0mstud3\u001b[0m \u001b[0;34m=\u001b[0m \u001b[0mPerson\u001b[0m\u001b[0;34m(\u001b[0m\u001b[0;34m\"Ken\"\u001b[0m\u001b[0;34m,\u001b[0m \u001b[0;36m93\u001b[0m\u001b[0;34m,\u001b[0m \u001b[0;36m89\u001b[0m\u001b[0;34m,\u001b[0m \u001b[0;36m91\u001b[0m\u001b[0;34m)\u001b[0m\u001b[0;34m\u001b[0m\u001b[0;34m\u001b[0m\u001b[0m\n\u001b[0m\u001b[1;32m     25\u001b[0m \u001b[0;34m\u001b[0m\u001b[0m\n\u001b[1;32m     26\u001b[0m \u001b[0;34m\u001b[0m\u001b[0m\n",
            "\u001b[0;31mTypeError\u001b[0m: __init__() missing 2 required positional arguments: 'mid' and 'fin'"
          ]
        }
      ]
    }
  ]
}