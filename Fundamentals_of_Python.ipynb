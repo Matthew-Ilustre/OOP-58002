{
  "nbformat": 4,
  "nbformat_minor": 0,
  "metadata": {
    "colab": {
      "name": "Fundamentals of Python",
      "provenance": [],
      "collapsed_sections": [],
      "authorship_tag": "ABX9TyO6XdJbddUch867+19hTjKi",
      "include_colab_link": true
    },
    "kernelspec": {
      "name": "python3",
      "display_name": "Python 3"
    },
    "language_info": {
      "name": "python"
    }
  },
  "cells": [
    {
      "cell_type": "markdown",
      "metadata": {
        "id": "view-in-github",
        "colab_type": "text"
      },
      "source": [
        "<a href=\"https://colab.research.google.com/github/Matthew-Ilustre/OOP-58002/blob/main/Fundamentals_of_Python.ipynb\" target=\"_parent\"><img src=\"https://colab.research.google.com/assets/colab-badge.svg\" alt=\"Open In Colab\"/></a>"
      ]
    },
    {
      "cell_type": "markdown",
      "source": [
        "# Fundamentals of Python"
      ],
      "metadata": {
        "id": "t9bOWdsBsTuX"
      }
    },
    {
      "cell_type": "markdown",
      "source": [
        "Python Indentation"
      ],
      "metadata": {
        "id": "hixN6JsHseQK"
      }
    },
    {
      "cell_type": "code",
      "source": [
        "if 5>2:\n",
        "  print('YES')"
      ],
      "metadata": {
        "colab": {
          "base_uri": "https://localhost:8080/"
        },
        "id": "lKhbH6RHsXeC",
        "outputId": "c13517c7-e97a-47ca-c59f-1ab181ae784e"
      },
      "execution_count": 1,
      "outputs": [
        {
          "output_type": "stream",
          "name": "stdout",
          "text": [
            "YES\n"
          ]
        }
      ]
    },
    {
      "cell_type": "markdown",
      "source": [
        "Python Comments"
      ],
      "metadata": {
        "id": "p4exx6V6tOeT"
      }
    },
    {
      "cell_type": "code",
      "source": [
        "#This is a comment\n",
        "print('Hello World')"
      ],
      "metadata": {
        "colab": {
          "base_uri": "https://localhost:8080/"
        },
        "id": "fEUnQO_OtQzI",
        "outputId": "63c1b939-533e-442c-f38b-0dac59c003ac"
      },
      "execution_count": 3,
      "outputs": [
        {
          "output_type": "stream",
          "name": "stdout",
          "text": [
            "Hello World\n"
          ]
        }
      ]
    },
    {
      "cell_type": "markdown",
      "source": [
        "Python Variable"
      ],
      "metadata": {
        "id": "dkjKcuIDtakJ"
      }
    },
    {
      "cell_type": "code",
      "source": [
        "x='Matthew'\n",
        "\n",
        "a=0\n",
        "a,b,c=0,1,2\n",
        "\n",
        "print(x)\n",
        "print(a)\n",
        "print(b)\n",
        "print(c)\n",
        "print(a,b,c)"
      ],
      "metadata": {
        "colab": {
          "base_uri": "https://localhost:8080/"
        },
        "id": "PpEvVbDbtdFz",
        "outputId": "b522e107-ba53-4282-d2a7-322d218678e4"
      },
      "execution_count": 4,
      "outputs": [
        {
          "output_type": "stream",
          "name": "stdout",
          "text": [
            "Matthew\n",
            "0\n",
            "1\n",
            "2\n",
            "0 1 2\n"
          ]
        }
      ]
    },
    {
      "cell_type": "markdown",
      "source": [
        "Casting"
      ],
      "metadata": {
        "id": "FFLoJNzjt2lU"
      }
    },
    {
      "cell_type": "code",
      "source": [
        "d=4\n",
        "d=int(4)\n",
        "print(d)"
      ],
      "metadata": {
        "colab": {
          "base_uri": "https://localhost:8080/"
        },
        "id": "6VqWm5qyt4uq",
        "outputId": "696ab84b-01ef-42ae-de86-5a0ae5646c30"
      },
      "execution_count": 8,
      "outputs": [
        {
          "output_type": "stream",
          "name": "stdout",
          "text": [
            "4\n"
          ]
        }
      ]
    },
    {
      "cell_type": "markdown",
      "source": [
        "Type() Function"
      ],
      "metadata": {
        "id": "S6w_3QFQuE5n"
      }
    },
    {
      "cell_type": "code",
      "source": [
        "d=4\n",
        "d=int(4)\n",
        "print(type(d))"
      ],
      "metadata": {
        "colab": {
          "base_uri": "https://localhost:8080/"
        },
        "id": "05f6u6pluJth",
        "outputId": "6b75b381-407a-4264-b055-32f40bb76384"
      },
      "execution_count": 9,
      "outputs": [
        {
          "output_type": "stream",
          "name": "stdout",
          "text": [
            "<class 'int'>\n"
          ]
        }
      ]
    },
    {
      "cell_type": "markdown",
      "source": [
        "Double Quotes and Single Quotes"
      ],
      "metadata": {
        "id": "OMGj5i6duXRK"
      }
    },
    {
      "cell_type": "code",
      "source": [
        "y='Monkey'\n",
        "Y='Gorilla'\n",
        "print(y)\n",
        "print(Y)"
      ],
      "metadata": {
        "colab": {
          "base_uri": "https://localhost:8080/"
        },
        "id": "ik_uVzDBufTO",
        "outputId": "7c59f292-422d-4330-a1d8-d3098eb0f7f5"
      },
      "execution_count": 10,
      "outputs": [
        {
          "output_type": "stream",
          "name": "stdout",
          "text": [
            "Monkey\n",
            "Gorilla\n"
          ]
        }
      ]
    },
    {
      "cell_type": "markdown",
      "source": [
        "Multiple Variables with one value"
      ],
      "metadata": {
        "id": "iPHlO4N8utCr"
      }
    },
    {
      "cell_type": "code",
      "source": [
        "k=l=m='Twenty-one'\n",
        "print(k)\n",
        "print(l)\n",
        "print(m)\n",
        "print(k,l,m)"
      ],
      "metadata": {
        "colab": {
          "base_uri": "https://localhost:8080/"
        },
        "id": "fBi9qMe_uxJL",
        "outputId": "4c3a04a1-07ab-4170-adca-ed59dd88bac1"
      },
      "execution_count": 11,
      "outputs": [
        {
          "output_type": "stream",
          "name": "stdout",
          "text": [
            "Twenty-one\n",
            "Twenty-one\n",
            "Twenty-one\n",
            "Twenty-one Twenty-one Twenty-one\n"
          ]
        }
      ]
    },
    {
      "cell_type": "markdown",
      "source": [
        "Output Varianble"
      ],
      "metadata": {
        "id": "RIDAW5vEvPV8"
      }
    },
    {
      "cell_type": "code",
      "source": [
        "print('Python programming is derived from C++')\n",
        "\n",
        "h='derived from C++'\n",
        "p='Python Programming is'\n",
        "print('Python programming is ' + h)\n",
        "print(p+' '+' '+h)"
      ],
      "metadata": {
        "colab": {
          "base_uri": "https://localhost:8080/"
        },
        "id": "RAH4zT4rvTGh",
        "outputId": "edcdd426-cdbd-4e11-aa54-32b2cd1fb463"
      },
      "execution_count": 15,
      "outputs": [
        {
          "output_type": "stream",
          "name": "stdout",
          "text": [
            "Python programming is derived from C++\n",
            "Python programming is derived from C++\n",
            "Python Programming is  derived from C++\n"
          ]
        }
      ]
    },
    {
      "cell_type": "markdown",
      "source": [
        "Arithmetic Operations"
      ],
      "metadata": {
        "id": "NZRTuiBr1Um7"
      }
    },
    {
      "cell_type": "code",
      "source": [
        "print(c+d)\n",
        "print(d-c)\n",
        "print(d*c)\n",
        "print(int(d/c))\n",
        "print(d%c)\n",
        "print(3//2)\n",
        "print(d**c)"
      ],
      "metadata": {
        "colab": {
          "base_uri": "https://localhost:8080/"
        },
        "id": "2tatb5YD1Xha",
        "outputId": "416f1d3a-a156-4ca9-e211-0382280da958"
      },
      "execution_count": 16,
      "outputs": [
        {
          "output_type": "stream",
          "name": "stdout",
          "text": [
            "6\n",
            "2\n",
            "8\n",
            "2\n",
            "0\n",
            "1\n",
            "16\n"
          ]
        }
      ]
    },
    {
      "cell_type": "markdown",
      "source": [
        "Assignment Operators"
      ],
      "metadata": {
        "id": "_x3Snxui1500"
      }
    },
    {
      "cell_type": "code",
      "source": [
        "q=10\n",
        "q+=5\n",
        "print(q)"
      ],
      "metadata": {
        "colab": {
          "base_uri": "https://localhost:8080/"
        },
        "id": "-KYUieFx19Mf",
        "outputId": "f5552abd-3b96-413a-f752-e1af3e3d8ea2"
      },
      "execution_count": 20,
      "outputs": [
        {
          "output_type": "stream",
          "name": "stdout",
          "text": [
            "15\n"
          ]
        }
      ]
    },
    {
      "cell_type": "markdown",
      "source": [
        "Boolean Logic"
      ],
      "metadata": {
        "id": "BUPdjtLZ2KCA"
      }
    },
    {
      "cell_type": "code",
      "source": [
        "s=10\n",
        "print(s^2)\n",
        "print(s|2)"
      ],
      "metadata": {
        "colab": {
          "base_uri": "https://localhost:8080/"
        },
        "id": "cHCEh-Kr2M0p",
        "outputId": "a8adc58c-8c86-4efd-bb96-0b47a98fb04c"
      },
      "execution_count": 21,
      "outputs": [
        {
          "output_type": "stream",
          "name": "stdout",
          "text": [
            "8\n",
            "10\n"
          ]
        }
      ]
    },
    {
      "cell_type": "markdown",
      "source": [
        "Comparison Operators"
      ],
      "metadata": {
        "id": "HJUc6_6u7BGK"
      }
    },
    {
      "cell_type": "code",
      "source": [
        "print(s>q)\n",
        "print(s==s)\n",
        "print(q==q)"
      ],
      "metadata": {
        "colab": {
          "base_uri": "https://localhost:8080/"
        },
        "id": "-Naipg4y7Eap",
        "outputId": "9a05c4b7-1af9-491e-e477-4dd6c2e3a671"
      },
      "execution_count": 22,
      "outputs": [
        {
          "output_type": "stream",
          "name": "stdout",
          "text": [
            "False\n",
            "True\n",
            "True\n"
          ]
        }
      ]
    },
    {
      "cell_type": "markdown",
      "source": [
        "Logical Operators"
      ],
      "metadata": {
        "id": "-Fiug1GI7QNl"
      }
    },
    {
      "cell_type": "code",
      "source": [
        "s>q and s==s\n",
        "s>q or s==s\n",
        "print(s>q and s==s)\n",
        "print(s>q or s==s)"
      ],
      "metadata": {
        "colab": {
          "base_uri": "https://localhost:8080/"
        },
        "id": "6HFslX7j7TLa",
        "outputId": "47cd89d0-84e3-4cb5-8103-de27455c818d"
      },
      "execution_count": 23,
      "outputs": [
        {
          "output_type": "stream",
          "name": "stdout",
          "text": [
            "False\n",
            "True\n"
          ]
        }
      ]
    },
    {
      "cell_type": "markdown",
      "source": [
        "Identity Operators"
      ],
      "metadata": {
        "id": "i5YbH14g7kBi"
      }
    },
    {
      "cell_type": "code",
      "source": [
        "s is q\n",
        "print(s is q)\n",
        "print(s is not q)"
      ],
      "metadata": {
        "colab": {
          "base_uri": "https://localhost:8080/"
        },
        "id": "7IK7Vgz07mqr",
        "outputId": "a92b38dc-785e-4dbb-92e7-930f85f23db8"
      },
      "execution_count": 26,
      "outputs": [
        {
          "output_type": "stream",
          "name": "stdout",
          "text": [
            "False\n",
            "True\n"
          ]
        }
      ]
    },
    {
      "cell_type": "markdown",
      "source": [
        "Bitwise Operators Shift Right/Left"
      ],
      "metadata": {
        "id": "AVBKxP6G7xoy"
      }
    },
    {
      "cell_type": "code",
      "source": [
        "u=2\n",
        "#shift right\n",
        "print(u<<1)\n",
        "#shift left\n",
        "print(u>>2)\n",
        "\n",
        "g=10\n",
        "#shift right\n",
        "print(10<<1)\n",
        "#shift left\n",
        "print(10>>1)"
      ],
      "metadata": {
        "colab": {
          "base_uri": "https://localhost:8080/"
        },
        "id": "KlmNF3Z972QX",
        "outputId": "6b627d3e-6d07-453d-8cec-f9c66ea79cb9"
      },
      "execution_count": 44,
      "outputs": [
        {
          "output_type": "stream",
          "name": "stdout",
          "text": [
            "4\n",
            "0\n",
            "20\n",
            "5\n"
          ]
        }
      ]
    }
  ]
}