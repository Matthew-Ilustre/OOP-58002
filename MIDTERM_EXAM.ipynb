{
  "nbformat": 4,
  "nbformat_minor": 0,
  "metadata": {
    "colab": {
      "name": "MIDTERM EXAM",
      "provenance": [],
      "authorship_tag": "ABX9TyP5wlp9OsDc0Ei8LhzDO33S",
      "include_colab_link": true
    },
    "kernelspec": {
      "name": "python3",
      "display_name": "Python 3"
    },
    "language_info": {
      "name": "python"
    }
  },
  "cells": [
    {
      "cell_type": "markdown",
      "metadata": {
        "id": "view-in-github",
        "colab_type": "text"
      },
      "source": [
        "<a href=\"https://colab.research.google.com/github/Matthew-Ilustre/OOP-58002/blob/main/MIDTERM_EXAM.ipynb\" target=\"_parent\"><img src=\"https://colab.research.google.com/assets/colab-badge.svg\" alt=\"Open In Colab\"/></a>"
      ]
    },
    {
      "cell_type": "markdown",
      "source": [
        "Question 1"
      ],
      "metadata": {
        "id": "i6EhLkcHXZSK"
      }
    },
    {
      "cell_type": "markdown",
      "source": [
        "Program 1: Modify the program below by adding two conversion methods - Fahrenheit to Celsius and Kelvin to Celsius (50 points)"
      ],
      "metadata": {
        "id": "JzM4qEKKY-lz"
      }
    },
    {
      "cell_type": "code",
      "execution_count": 1,
      "metadata": {
        "colab": {
          "base_uri": "https://localhost:8080/"
        },
        "id": "8MfDzT2_XRKr",
        "outputId": "742012b6-e47a-4cda-97f0-18b27a0c0dfa"
      },
      "outputs": [
        {
          "output_type": "stream",
          "name": "stdout",
          "text": [
            "Enter the temperature in Celsius: 20\n",
            "293.15 Kelvin\n",
            "68.0 Fahrenheit\n"
          ]
        }
      ],
      "source": [
        "def main():\n",
        "\n",
        "  \n",
        "\n",
        " class TemperatureConversion:\n",
        "\n",
        "  def __init__(self, temp=1):\n",
        "\n",
        "   self._temp = temp\n",
        "\n",
        " class CelsiusToFahrenheit(TemperatureConversion):\n",
        "\n",
        "  def conversion(self):\n",
        "\n",
        "   return (self._temp * 9) / 5 + 32\n",
        "\n",
        " class CelsiusToKelvin(TemperatureConversion):\n",
        "\n",
        "  def conversion(self):\n",
        "\n",
        "   return self._temp + 273.15\n",
        "\n",
        " tempInCelsius = float(input(\"Enter the temperature in Celsius: \"))\n",
        "\n",
        " convert = CelsiusToKelvin(tempInCelsius)\n",
        "\n",
        " print(str(convert.conversion()) + \" Kelvin\")\n",
        "\n",
        " convert = CelsiusToFahrenheit(tempInCelsius)\n",
        "\n",
        " print(str(convert.conversion()) + \" Fahrenheit\")\n",
        "\n",
        "\n",
        "\n",
        "main()"
      ]
    },
    {
      "cell_type": "code",
      "source": [
        "def main():\n",
        "    class TemperatureConversion:\n",
        "\n",
        "        def __init__(self, temp=1):\n",
        "            self._temp = temp\n",
        "\n",
        "    class CelToFahr(TemperatureConversion):\n",
        "\n",
        "        def conversion(self):\n",
        "            return (self._temp * 9) / 5 + 32\n",
        "\n",
        "    class CelToKelvin(TemperatureConversion):\n",
        "\n",
        "        def conversion(self):\n",
        "            return self._temp + 273.15\n",
        "\n",
        "    class KelvinToCel(TemperatureConversion):\n",
        "\n",
        "        def conversion(self):\n",
        "            return self._temp - 273.15\n",
        "\n",
        "    class FahrToCel(TemperatureConversion):\n",
        "\n",
        "        def conversion(self):\n",
        "            return (self._temp * 32) - 5 / 9\n",
        "\n",
        "    tempInCelsius = float(input(\"Enter the temperature in Celsius: \"))\n",
        "    tempInKelvin = float(input(\"Enter the temperature in Kelvin: \"))\n",
        "    tempInFahrenheit = float(input(\"Enter the temperature in Fahrenheit: \"))\n",
        "\n",
        "    cv = CelToKelvin(tempInCelsius)\n",
        "    cv2 = KelvinToCel(tempInKelvin)\n",
        "    cv3= FahrToCel(tempInKelvin)\n",
        "\n",
        "    print(str(cv.conversion()) + \" Celsius \")\n",
        "    print(str(cv2.conversion()) + \" Kelvin \")\n",
        "\n",
        "    cv = CelToFahr(tempInCelsius)\n",
        "\n",
        "    print(str(cv.conversion()) + \" Celsius \")\n",
        "    print(str(cv3.conversion()) + \" Fahrenheit \")\n",
        "\n",
        "\n",
        "main()"
      ],
      "metadata": {
        "colab": {
          "base_uri": "https://localhost:8080/"
        },
        "id": "9d5CjdEtYZPD",
        "outputId": "5419ca94-5837-491e-9e22-f56ddc301bd8"
      },
      "execution_count": 10,
      "outputs": [
        {
          "output_type": "stream",
          "name": "stdout",
          "text": [
            "Enter the temperature in Celsius: 20\n",
            "Enter the temperature in Kelvin: 100\n",
            "Enter the temperature in Fahrenheit: 20\n",
            "293.15 Celsius \n",
            "-173.14999999999998 Kelvin \n",
            "68.0 Celsius \n",
            "3199.4444444444443 Fahrenheit \n"
          ]
        }
      ]
    }
  ]
}