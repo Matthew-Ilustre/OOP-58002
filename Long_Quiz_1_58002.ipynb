{
  "cells": [
    {
      "cell_type": "markdown",
      "metadata": {
        "id": "view-in-github",
        "colab_type": "text"
      },
      "source": [
        "<a href=\"https://colab.research.google.com/github/Matthew-Ilustre/OOP-58002/blob/main/Long_Quiz_1_58002.ipynb\" target=\"_parent\"><img src=\"https://colab.research.google.com/assets/colab-badge.svg\" alt=\"Open In Colab\"/></a>"
      ]
    },
    {
      "cell_type": "markdown",
      "source": [
        "Long Quiz 1"
      ],
      "metadata": {
        "id": "cG7KzhqVmpbD"
      }
    },
    {
      "cell_type": "code",
      "source": [
        "class Temp:\n",
        "  def _init_ (T):\n",
        "    self.T = T\n",
        "  \n",
        "  def Celsius(self):\n",
        "    return((9/5)*T)+32\n",
        "\n",
        "  def Fahrenheit(self):\n",
        "    return(5/9)*(T-32)\n",
        "\n",
        "  def display(self):\n",
        "    if convert =='c':\n",
        "      print(T, \"Celsius is\", self.Celsius(), \"Farenheit\")\n",
        "    elif convert == 'f':\n",
        "      print(T, \"Fahrenheit equals\", self.Fahrenheit(), \"Celsius\")\n",
        "    elif convert =='C':\n",
        "      print(T, \"Celsius is\", self.Celsius(), \"Farenheit\")\n",
        "    elif convert == 'F':\n",
        "      print(T, \"Fahrenheit equals\", self.Fahrenheit(), \"Celsius\")\n",
        "    else:\n",
        "      print(\"The Input was Invalid please try again.\")\n",
        "      \n",
        "T= float(input(\"What is the current Temperature:\"))\n",
        "\n",
        "convert=input(\"Is the provided data Celsius or Farenheit C/F \")\n",
        "\n",
        "\n",
        "View = Temp()\n",
        "View.display()"
      ],
      "metadata": {
        "id": "HK7XJjrAojZF",
        "outputId": "855a9c45-86b7-4513-9737-a0962e6c7add",
        "colab": {
          "base_uri": "https://localhost:8080/"
        }
      },
      "execution_count": 6,
      "outputs": [
        {
          "output_type": "stream",
          "name": "stdout",
          "text": [
            "What is the current Temperature:25\n",
            "Is the provided data Celsius or Farenheit C/F F\n",
            "25.0 Fahrenheit equals -3.8888888888888893 Celsius\n"
          ]
        }
      ]
    }
  ],
  "metadata": {
    "colab": {
      "collapsed_sections": [],
      "name": "Long Quiz 1 58002",
      "toc_visible": true,
      "provenance": [],
      "include_colab_link": true
    },
    "kernelspec": {
      "display_name": "Python 3",
      "name": "python3"
    }
  },
  "nbformat": 4,
  "nbformat_minor": 0
}